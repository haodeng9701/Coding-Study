{
 "cells": [
  {
   "cell_type": "code",
   "execution_count": 61,
   "id": "5a8f6d20-ff1e-4800-83b2-aa20ac630617",
   "metadata": {},
   "outputs": [
    {
     "name": "stdout",
     "output_type": "stream",
     "text": [
      "[[ 1  2  3]\n",
      " [ 4  5  6]\n",
      " [16 17 18]]\n",
      "[0 0 1]\n"
     ]
    }
   ],
   "source": [
    "import numpy as np\n",
    "\n",
    "def downsample_class_one(X, y, downsample_ratio):\n",
    "    # Find indices of class 0 and class 1\n",
    "    class_0_indices = np.where(y == 0)[0]\n",
    "    class_1_indices = np.where(y == 1)[0]\n",
    "\n",
    "    # Calculate the desired number of samples for class 1\n",
    "    desired_samples = int(len(class_0_indices) * downsample_ratio)\n",
    "\n",
    "    # Randomly select samples from class 1 without replacement\n",
    "    downsampled_indices = np.random.choice(class_1_indices, size=desired_samples, replace=False)\n",
    "\n",
    "    # Combine the downsampled class 1 samples with all class 0 samples\n",
    "    downsampled_X = np.concatenate((X[class_0_indices], X[downsampled_indices]), axis=0)\n",
    "    downsampled_y = np.concatenate((y[class_0_indices], y[downsampled_indices]), axis=0)\n",
    "\n",
    "    return downsampled_X, downsampled_y\n",
    "\n",
    "# Example usage\n",
    "X = np.array([[1, 2, 3],\n",
    "              [4, 5, 6],\n",
    "              [7, 8, 9],\n",
    "              [10, 11, 12],\n",
    "              [13, 14, 15],\n",
    "              [16, 17, 18]])\n",
    "\n",
    "y = np.array([0, 0, 1, 1, 1, 1])\n",
    "\n",
    "downsample_ratio = 0.5\n",
    "downsampled_X, downsampled_y = downsample_class_one(X, y, downsample_ratio)\n",
    "\n",
    "print(downsampled_X)\n",
    "print(downsampled_y)\n"
   ]
  },
  {
   "cell_type": "code",
   "execution_count": null,
   "id": "bbff7541-0f67-49b6-8140-b70605b56b1b",
   "metadata": {},
   "outputs": [],
   "source": []
  },
  {
   "cell_type": "code",
   "execution_count": 72,
   "id": "e6816154-2391-43a9-a197-d6964a9fb927",
   "metadata": {},
   "outputs": [
    {
     "name": "stdout",
     "output_type": "stream",
     "text": [
      "[[13 14 15]\n",
      " [16 17 18]\n",
      " [ 1  2  3]\n",
      " [ 4  5  6]]\n",
      "[1 1 0 0]\n"
     ]
    }
   ],
   "source": [
    "import numpy as np\n",
    "\n",
    "def downsample_data(X, y, downsample_ratio, class_to_downsample):\n",
    "    # Find indices of each class\n",
    "    unique_classes = np.unique(y)\n",
    "    class_indices = [np.where(y == cls)[0] for cls in unique_classes]\n",
    "    \n",
    "    # Calculate the desired number of samples for the class to downsample\n",
    "    class_to_downsample_index = np.where(unique_classes == class_to_downsample)[0][0]\n",
    "    class_to_downsample_indices = class_indices[class_to_downsample_index]\n",
    "    desired_samples = int(len(class_to_downsample_indices) * downsample_ratio)\n",
    "    \n",
    "    # Randomly select samples from the class to downsample\n",
    "    downsampled_indices = np.random.choice(class_to_downsample_indices, desired_samples, replace=False)\n",
    "    \n",
    "    # Gather indices of the other class\n",
    "    other_class_index = 1 - class_to_downsample_index\n",
    "    other_class_indices = class_indices[other_class_index]\n",
    "    \n",
    "    # Combine indices of both classes\n",
    "    downsampled_indices = np.concatenate((downsampled_indices, other_class_indices))\n",
    "    \n",
    "    downsampled_X = X[downsampled_indices]\n",
    "    downsampled_y = y[downsampled_indices]\n",
    "    \n",
    "    return downsampled_X, downsampled_y\n",
    "\n",
    "# Example usage\n",
    "X = np.array([[1, 2, 3],\n",
    "              [4, 5, 6],\n",
    "              [7, 8, 9],\n",
    "              [10, 11, 12],\n",
    "              [13, 14, 15],\n",
    "              [16, 17, 18]])\n",
    "\n",
    "y = np.array([0, 0, 1, 1, 1, 1])\n",
    "\n",
    "downsample_ratio = 0.5\n",
    "class_to_downsample = 1\n",
    "\n",
    "downsampled_X, downsampled_y = downsample_data(X, y, downsample_ratio, class_to_downsample)\n",
    "\n",
    "print(downsampled_X)\n",
    "print(downsampled_y)\n"
   ]
  },
  {
   "cell_type": "code",
   "execution_count": 1,
   "id": "7649a2bf-33c1-499c-8eb3-aee687e05e1c",
   "metadata": {},
   "outputs": [],
   "source": [
    "import gdal"
   ]
  },
  {
   "cell_type": "code",
   "execution_count": null,
   "id": "c6c3019a-88b7-4d05-b2dd-6a7dc5fd3190",
   "metadata": {},
   "outputs": [],
   "source": []
  }
 ],
 "metadata": {
  "kernelspec": {
   "display_name": "Python 3",
   "language": "python",
   "name": "python3"
  },
  "language_info": {
   "codemirror_mode": {
    "name": "ipython",
    "version": 3
   },
   "file_extension": ".py",
   "mimetype": "text/x-python",
   "name": "python",
   "nbconvert_exporter": "python",
   "pygments_lexer": "ipython3",
   "version": "3.8.8"
  }
 },
 "nbformat": 4,
 "nbformat_minor": 5
}
